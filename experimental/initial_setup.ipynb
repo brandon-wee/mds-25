{
 "cells": [
  {
   "cell_type": "code",
   "execution_count": 2,
   "metadata": {},
   "outputs": [],
   "source": [
    "# Add this near the top of your script after importing numpy\n",
    "import numpy as np\n",
    "\n",
    "# Add this compatibility fix before using the InsightFace app\n",
    "if not hasattr(np, 'int'):\n",
    "    np.int = int"
   ]
  },
  {
   "cell_type": "code",
   "execution_count": 3,
   "metadata": {},
   "outputs": [
    {
     "name": "stdout",
     "output_type": "stream",
     "text": [
      "Applied providers: ['CPUExecutionProvider'], with options: {'CPUExecutionProvider': {}}\n",
      "find model: /Users/yousufsarfraz_1/.insightface/models/buffalo_l/1k3d68.onnx landmark_3d_68 ['None', 3, 192, 192] 0.0 1.0\n",
      "Applied providers: ['CPUExecutionProvider'], with options: {'CPUExecutionProvider': {}}\n",
      "find model: /Users/yousufsarfraz_1/.insightface/models/buffalo_l/2d106det.onnx landmark_2d_106 ['None', 3, 192, 192] 0.0 1.0\n",
      "Applied providers: ['CPUExecutionProvider'], with options: {'CPUExecutionProvider': {}}\n",
      "find model: /Users/yousufsarfraz_1/.insightface/models/buffalo_l/det_10g.onnx detection [1, 3, '?', '?'] 127.5 128.0\n",
      "Applied providers: ['CPUExecutionProvider'], with options: {'CPUExecutionProvider': {}}\n",
      "find model: /Users/yousufsarfraz_1/.insightface/models/buffalo_l/genderage.onnx genderage ['None', 3, 96, 96] 0.0 1.0\n",
      "Applied providers: ['CPUExecutionProvider'], with options: {'CPUExecutionProvider': {}}\n",
      "find model: /Users/yousufsarfraz_1/.insightface/models/buffalo_l/w600k_r50.onnx recognition ['None', 3, 112, 112] 127.5 127.5\n",
      "set det-size: (640, 640)\n",
      "[[ 1.0000001   0.0644277  -0.01040836 -0.08270287  0.03554768 -0.02874359]\n",
      " [ 0.0644277   1.0000001   0.0262847   0.0969158  -0.02192192  0.21327962]\n",
      " [-0.01040836  0.0262847   1.          0.14633235  0.06819455 -0.03553938]\n",
      " [-0.08270287  0.0969158   0.14633235  0.9999999  -0.02995647 -0.01416917]\n",
      " [ 0.03554768 -0.02192192  0.06819455 -0.02995647  1.0000001   0.05756282]\n",
      " [-0.02874359  0.21327962 -0.03553938 -0.01416917  0.05756282  0.9999999 ]]\n"
     ]
    }
   ],
   "source": [
    "import argparse\n",
    "import cv2\n",
    "import sys\n",
    "import insightface\n",
    "from insightface.app import FaceAnalysis\n",
    "from insightface.data import get_image as ins_get_image\n",
    "\n",
    "assert insightface.__version__>='0.3'\n",
    "\n",
    "parser = argparse.ArgumentParser(description='insightface app test')\n",
    "# general\n",
    "parser.add_argument('--ctx', default=0, type=int, help='ctx id, <0 means using cpu')\n",
    "parser.add_argument('--det-size', default=640, type=int, help='detection size')\n",
    "args = parser.parse_args([])\n",
    "\n",
    "app = FaceAnalysis()\n",
    "app.prepare(ctx_id=args.ctx, det_size=(args.det_size,args.det_size))\n",
    "\n",
    "img = ins_get_image('t1')\n",
    "faces = app.get(img)\n",
    "assert len(faces)==6\n",
    "rimg = app.draw_on(img, faces)\n",
    "cv2.imwrite(\"./t1_output.jpg\", rimg)\n",
    "\n",
    "# then print all-to-all face similarity\n",
    "feats = []\n",
    "for face in faces:\n",
    "    feats.append(face.normed_embedding)\n",
    "feats = np.array(feats, dtype=np.float32)\n",
    "sims = np.dot(feats, feats.T)\n",
    "print(sims)"
   ]
  }
 ],
 "metadata": {
  "kernelspec": {
   "display_name": ".venv",
   "language": "python",
   "name": "python3"
  },
  "language_info": {
   "codemirror_mode": {
    "name": "ipython",
    "version": 3
   },
   "file_extension": ".py",
   "mimetype": "text/x-python",
   "name": "python",
   "nbconvert_exporter": "python",
   "pygments_lexer": "ipython3",
   "version": "3.9.21"
  }
 },
 "nbformat": 4,
 "nbformat_minor": 2
}
