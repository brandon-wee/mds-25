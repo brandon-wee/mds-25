{
 "cells": [
  {
   "cell_type": "code",
   "execution_count": 5,
   "metadata": {},
   "outputs": [],
   "source": [
    "# Step 2: Simplify ONNX model (critical for quantized models)\n",
    "from onnxsim import simplify\n",
    "import onnx\n",
    "from onnx2tf import convert\n",
    "import tensorflow as tf"
   ]
  },
  {
   "cell_type": "code",
   "execution_count": 6,
   "metadata": {},
   "outputs": [
    {
     "ename": "TypeError",
     "evalue": "simplify() got an unexpected keyword argument 'skip_fuse_ops'",
     "output_type": "error",
     "traceback": [
      "\u001b[0;31m---------------------------------------------------------------------------\u001b[0m",
      "\u001b[0;31mTypeError\u001b[0m                                 Traceback (most recent call last)",
      "Cell \u001b[0;32mIn[6], line 7\u001b[0m\n\u001b[1;32m      4\u001b[0m simplified_model_path \u001b[38;5;241m=\u001b[39m \u001b[38;5;124m\"\u001b[39m\u001b[38;5;124m/Users/yousufsarfraz_1/Documents/GitHub/mds-25/downsizing_experimental/quantized_model_simplified.onnx\u001b[39m\u001b[38;5;124m\"\u001b[39m\n\u001b[1;32m      6\u001b[0m model \u001b[38;5;241m=\u001b[39m onnx\u001b[38;5;241m.\u001b[39mload(input_model)\n\u001b[0;32m----> 7\u001b[0m simplified_model, check \u001b[38;5;241m=\u001b[39m \u001b[43msimplify\u001b[49m\u001b[43m(\u001b[49m\u001b[43mmodel\u001b[49m\u001b[43m,\u001b[49m\u001b[43m \u001b[49m\n\u001b[1;32m      8\u001b[0m \u001b[43m                                 \u001b[49m\u001b[43mperform_optimization\u001b[49m\u001b[38;5;241;43m=\u001b[39;49m\u001b[38;5;28;43;01mTrue\u001b[39;49;00m\u001b[43m,\u001b[49m\n\u001b[1;32m      9\u001b[0m \u001b[43m                                 \u001b[49m\u001b[43mskip_fuse_ops\u001b[49m\u001b[38;5;241;43m=\u001b[39;49m\u001b[38;5;28;43;01mFalse\u001b[39;49;00m\u001b[43m)\u001b[49m\n\u001b[1;32m     10\u001b[0m \u001b[38;5;28;01massert\u001b[39;00m check, \u001b[38;5;124m\"\u001b[39m\u001b[38;5;124mSimplification failed\u001b[39m\u001b[38;5;124m\"\u001b[39m\n\u001b[1;32m     11\u001b[0m onnx\u001b[38;5;241m.\u001b[39msave(simplified_model, simplified_model_path)\n",
      "\u001b[0;31mTypeError\u001b[0m: simplify() got an unexpected keyword argument 'skip_fuse_ops'"
     ]
    }
   ],
   "source": [
    "input_model = \"/Users/yousufsarfraz_1/Documents/GitHub/mds-25/downsizing_experimental/det_500m.dynamic_int8_v1.onnx\"\n",
    "simplified_model = \"/Users/yousufsarfraz_1/Documents/GitHub/mds-25/downsizing_experimental/quantized_model_simplified.onnx\"\n",
    "\n",
    "simplified_model_path = \"/Users/yousufsarfraz_1/Documents/GitHub/mds-25/downsizing_experimental/quantized_model_simplified.onnx\"\n",
    "\n",
    "model = onnx.load(input_model)\n",
    "simplified_model, check = simplify(model, \n",
    "                                 perform_optimization=True,\n",
    "                                 skip_fuse_bn=False)\n",
    "assert check, \"Simplification failed\"\n",
    "onnx.save(simplified_model, simplified_model_path)\n",
    "\n",
    "\n",
    "\n",
    "convert(\n",
    "    input_onnx_file_path=simplified_model,\n",
    "    output_folder_path=\"tflite_output\",\n",
    "    output_flatc_code=True,\n",
    "    keep_shape_absolutely_input_names=None,\n",
    "    enable_optimization=True,\n",
    "    quantize_per_tensor=True,  # Preserve per-tensor quantization\n",
    "    custom_input_op_name_np_data_paths={\n",
    "        'serving_default_input:0': 'calibration_data.npy'  # Your calibration data\n",
    "    }\n",
    ")\n",
    "\n",
    "\n",
    "\n",
    "interpreter = tf.lite.Interpreter(model_path=\"tflite_output/model_float32.tflite\")\n",
    "interpreter.allocate_tensors()\n",
    "\n",
    "# Check input/output quantization parameters\n",
    "input_details = interpreter.get_input_details()[0]\n",
    "print(f\"Input dtype: {input_details['dtype']}\")  # Should show int8\n",
    "print(f\"Input scale: {input_details['quantization_parameters']['scales'][0]}\")\n",
    "print(f\"Input zero point: {input_details['quantization_parameters']['zero_points'][0]}\")\n",
    "\n",
    "# Step 5: Final optimization (optional)\n",
    "converter = tf.lite.TFLiteConverter.from_onnx_model(simplified_model)\n",
    "converter._experimental_lower_tensor_list_ops = False  # Preserve quantization\n",
    "converter.optimizations = [tf.lite.Optimize.DEFAULT]\n",
    "tflite_quant_model = converter.convert()\n",
    "\n",
    "with open(\"final_quantized_model.tflite\", \"wb\") as f:\n",
    "    f.write(tflite_quant_model)\n"
   ]
  }
 ],
 "metadata": {
  "kernelspec": {
   "display_name": ".venv",
   "language": "python",
   "name": "python3"
  },
  "language_info": {
   "codemirror_mode": {
    "name": "ipython",
    "version": 3
   },
   "file_extension": ".py",
   "mimetype": "text/x-python",
   "name": "python",
   "nbconvert_exporter": "python",
   "pygments_lexer": "ipython3",
   "version": "3.10.16"
  }
 },
 "nbformat": 4,
 "nbformat_minor": 2
}
